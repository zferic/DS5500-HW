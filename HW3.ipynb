{
 "cells": [
  {
   "cell_type": "code",
   "execution_count": 3,
   "metadata": {},
   "outputs": [
    {
     "name": "stderr",
     "output_type": "stream",
     "text": [
      "/opt/anaconda3/lib/python3.7/site-packages/IPython/core/interactiveshell.py:3058: DtypeWarning: Columns (0,3) have mixed types. Specify dtype option on import or set low_memory=False.\n",
      "  interactivity=interactivity, compiler=compiler, result=result)\n"
     ]
    }
   ],
   "source": [
    "import pandas as pd\n",
    "import os\n",
    "\n",
    "\n",
    "#Due to related budget cuts, the most recent fiscal data you have to work with is from 2015-16. Download the\n",
    "#2015-16 district-level fiscal data from the National Center for Education Statistics’ Common Core of Data:\n",
    "\n",
    "fiscal_df = pd.read_table('data/Sdf16_1a.txt')\n",
    "\n",
    "#For helping you make your decision, it may be helpful to have some performance metrics for each district.\n",
    "#You can download the 2015-16 data for distrct-level statistics on graduation rate and state assessments on\n",
    "#mathematics and reading/language arts from the EDFacts website:\n",
    "\n",
    "perform_math_df = pd.read_csv('data/math-achievement-sch-sy2015-16.csv')\n",
    "perform_read_df = pd.read_csv('data/rla-achievement-sch-sy2015-16.csv')"
   ]
  },
  {
   "cell_type": "markdown",
   "metadata": {},
   "source": [
    "### Problem 1 <br>\n",
    "Import and explore the district-level fiscal data from 2015-16. <br>\n",
    "Rank and visualize the states that take in the most federal funding (revenue).<br>\n",
    "Which states spend the most federal funding per student? <br>"
   ]
  },
  {
   "cell_type": "markdown",
   "metadata": {},
   "source": [
    "### Problem 2 <br>\n",
    "Visualize the relationship between school districts’ total revenue and expenditures. <br>\n",
    "Which states have the most debt per student?<br>\n",
    "\n"
   ]
  },
  {
   "cell_type": "markdown",
   "metadata": {},
   "source": [
    "### Problem 3 <br>\n",
    "\n",
    "The district-level performance metrics from EDFacts may be useful in your decision. <br>\n",
    "However, to protect student privacy, the data in these datasets has been heavily “blurred” to prevent students <br>\n",
    "from being identified. Therefore, most of the numeric metrics are presented as ranges in string format. In <br>\n",
    "addition, censored and missing data must be imputed. <br>\n",
    "Write and explain a function for processing a single column of “blurred” metrics into usable numeric values.<br>\n",
    "Use it to process and then visualize the distribution of a performance metric of your choice. <br>"
   ]
  },
  {
   "cell_type": "markdown",
   "metadata": {},
   "source": [
    "### Problem 4 <br>\n",
    "You are tasked with cutting 15% of the U.S. federal budget currently being spent on funding school districts. <br>\n",
    "How much money is this? <br>\n",
    "Choose which school districts will have their funding cut and how this will be done. <br>\n",
    "(You should produce a table of LEA IDs and the dollar amount by which their federal funding will be cut – <br>\n",
    "you do not need print the entire table.) <br>"
   ]
  },
  {
   "cell_type": "code",
   "execution_count": 5,
   "metadata": {},
   "outputs": [
    {
     "ename": "SyntaxError",
     "evalue": "invalid syntax (<ipython-input-5-a29d7188af37>, line 3)",
     "output_type": "error",
     "traceback": [
      "\u001b[0;36m  File \u001b[0;32m\"<ipython-input-5-a29d7188af37>\"\u001b[0;36m, line \u001b[0;32m3\u001b[0m\n\u001b[0;31m    Provide a statement for your supervisor justifying your decisions on which school districts will lose funding.\u001b[0m\n\u001b[0m            ^\u001b[0m\n\u001b[0;31mSyntaxError\u001b[0m\u001b[0;31m:\u001b[0m invalid syntax\n"
     ]
    }
   ],
   "source": [
    "# Problem 5\n",
    "\n",
    "Provide a statement for your supervisor justifying your decisions on which school districts will lose funding."
   ]
  }
 ],
 "metadata": {
  "kernelspec": {
   "display_name": "Python 3",
   "language": "python",
   "name": "python3"
  },
  "language_info": {
   "codemirror_mode": {
    "name": "ipython",
    "version": 3
   },
   "file_extension": ".py",
   "mimetype": "text/x-python",
   "name": "python",
   "nbconvert_exporter": "python",
   "pygments_lexer": "ipython3",
   "version": "3.7.4"
  }
 },
 "nbformat": 4,
 "nbformat_minor": 2
}
