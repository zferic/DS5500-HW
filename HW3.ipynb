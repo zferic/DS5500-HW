{
 "cells": [
  {
   "cell_type": "code",
   "execution_count": 1,
   "metadata": {},
   "outputs": [
    {
     "name": "stderr",
     "output_type": "stream",
     "text": [
      "/opt/anaconda3/lib/python3.7/site-packages/IPython/core/interactiveshell.py:3058: DtypeWarning: Columns (0,3) have mixed types. Specify dtype option on import or set low_memory=False.\n",
      "  interactivity=interactivity, compiler=compiler, result=result)\n",
      "/opt/anaconda3/lib/python3.7/site-packages/IPython/core/interactiveshell.py:3058: DtypeWarning: Columns (13,15,19,21,23,27,33,35,37,39,47,51,53,55,57,59,63,65,69,71,77,79,81,85,87,91,99,103,107,109,111,113,115,117,119,121,123,131,133,135,137,143,145,147,149,151,155,161,165,167,173,175,177,179,187,191,193,195,201,203,209,217,219,221,223,225,227,229) have mixed types. Specify dtype option on import or set low_memory=False.\n",
      "  interactivity=interactivity, compiler=compiler, result=result)\n",
      "/opt/anaconda3/lib/python3.7/site-packages/IPython/core/interactiveshell.py:3058: DtypeWarning: Columns (13,19,21,23,27,33,35,37,39,41,47,51,53,55,57,61,67,77,79,81,83,85,87,91,103,105,107,109,111,113,115,117,121,123,125,131,133,135,137,139,145,147,149,151,159,161,165,167,173,175,177,179,187,195,211,217,219,221,223,225,227,229) have mixed types. Specify dtype option on import or set low_memory=False.\n",
      "  interactivity=interactivity, compiler=compiler, result=result)\n"
     ]
    }
   ],
   "source": [
    "import pandas as pd\n",
    "import os\n",
    "\n",
    "\n",
    "#Due to related budget cuts, the most recent fiscal data you have to work with is from 2015-16. Download the\n",
    "#2015-16 district-level fiscal data from the National Center for Education Statistics’ Common Core of Data:\n",
    "\n",
    "fiscal_df = pd.read_table('data/Sdf16_1a.txt')\n",
    "\n",
    "#For helping you make your decision, it may be helpful to have some performance metrics for each district.\n",
    "#You can download the 2015-16 data for distrct-level statistics on graduation rate and state assessments on\n",
    "#mathematics and reading/language arts from the EDFacts website:\n",
    "\n",
    "perform_math_df = pd.read_csv('data/math-achievement-sch-sy2015-16.csv')\n",
    "perform_read_df = pd.read_csv('data/rla-achievement-sch-sy2015-16.csv')"
   ]
  },
  {
   "cell_type": "code",
   "execution_count": 2,
   "metadata": {},
   "outputs": [
    {
     "data": {
      "text/html": [
       "<div>\n",
       "<style scoped>\n",
       "    .dataframe tbody tr th:only-of-type {\n",
       "        vertical-align: middle;\n",
       "    }\n",
       "\n",
       "    .dataframe tbody tr th {\n",
       "        vertical-align: top;\n",
       "    }\n",
       "\n",
       "    .dataframe thead th {\n",
       "        text-align: right;\n",
       "    }\n",
       "</style>\n",
       "<table border=\"1\" class=\"dataframe\">\n",
       "  <thead>\n",
       "    <tr style=\"text-align: right;\">\n",
       "      <th></th>\n",
       "      <th>LEAID</th>\n",
       "      <th>CENSUSID</th>\n",
       "      <th>FIPST</th>\n",
       "      <th>CONUM</th>\n",
       "      <th>CSA</th>\n",
       "      <th>CBSA</th>\n",
       "      <th>NAME</th>\n",
       "      <th>STNAME</th>\n",
       "      <th>STABBR</th>\n",
       "      <th>SCHLEV</th>\n",
       "      <th>...</th>\n",
       "      <th>FL_61V</th>\n",
       "      <th>FL_66V</th>\n",
       "      <th>FL_W01</th>\n",
       "      <th>FL_W31</th>\n",
       "      <th>FL_W61</th>\n",
       "      <th>FL_V95</th>\n",
       "      <th>FL_V02</th>\n",
       "      <th>FL_K14</th>\n",
       "      <th>FL_CE1</th>\n",
       "      <th>FL_CE2</th>\n",
       "    </tr>\n",
       "  </thead>\n",
       "  <tbody>\n",
       "    <tr>\n",
       "      <td>0</td>\n",
       "      <td>100002</td>\n",
       "      <td>N</td>\n",
       "      <td>1</td>\n",
       "      <td>01073</td>\n",
       "      <td>142</td>\n",
       "      <td>13820</td>\n",
       "      <td>Alabama Youth Services</td>\n",
       "      <td>Alabama</td>\n",
       "      <td>AL</td>\n",
       "      <td>N</td>\n",
       "      <td>...</td>\n",
       "      <td>M</td>\n",
       "      <td>M</td>\n",
       "      <td>M</td>\n",
       "      <td>M</td>\n",
       "      <td>M</td>\n",
       "      <td>M</td>\n",
       "      <td>M</td>\n",
       "      <td>M</td>\n",
       "      <td>M</td>\n",
       "      <td>M</td>\n",
       "    </tr>\n",
       "    <tr>\n",
       "      <td>1</td>\n",
       "      <td>100005</td>\n",
       "      <td>01504840100000</td>\n",
       "      <td>1</td>\n",
       "      <td>01095</td>\n",
       "      <td>290</td>\n",
       "      <td>10700</td>\n",
       "      <td>Albertville City</td>\n",
       "      <td>Alabama</td>\n",
       "      <td>AL</td>\n",
       "      <td>03</td>\n",
       "      <td>...</td>\n",
       "      <td>M</td>\n",
       "      <td>M</td>\n",
       "      <td>R</td>\n",
       "      <td>R</td>\n",
       "      <td>R</td>\n",
       "      <td>M</td>\n",
       "      <td>M</td>\n",
       "      <td>M</td>\n",
       "      <td>M</td>\n",
       "      <td>M</td>\n",
       "    </tr>\n",
       "    <tr>\n",
       "      <td>2</td>\n",
       "      <td>100006</td>\n",
       "      <td>01504800100000</td>\n",
       "      <td>1</td>\n",
       "      <td>01095</td>\n",
       "      <td>290</td>\n",
       "      <td>10700</td>\n",
       "      <td>Marshall County</td>\n",
       "      <td>Alabama</td>\n",
       "      <td>AL</td>\n",
       "      <td>03</td>\n",
       "      <td>...</td>\n",
       "      <td>M</td>\n",
       "      <td>M</td>\n",
       "      <td>R</td>\n",
       "      <td>R</td>\n",
       "      <td>R</td>\n",
       "      <td>M</td>\n",
       "      <td>M</td>\n",
       "      <td>M</td>\n",
       "      <td>M</td>\n",
       "      <td>M</td>\n",
       "    </tr>\n",
       "    <tr>\n",
       "      <td>3</td>\n",
       "      <td>100007</td>\n",
       "      <td>01503740100000</td>\n",
       "      <td>1</td>\n",
       "      <td>01073</td>\n",
       "      <td>142</td>\n",
       "      <td>13820</td>\n",
       "      <td>Hoover City</td>\n",
       "      <td>Alabama</td>\n",
       "      <td>AL</td>\n",
       "      <td>03</td>\n",
       "      <td>...</td>\n",
       "      <td>M</td>\n",
       "      <td>M</td>\n",
       "      <td>R</td>\n",
       "      <td>R</td>\n",
       "      <td>R</td>\n",
       "      <td>M</td>\n",
       "      <td>M</td>\n",
       "      <td>M</td>\n",
       "      <td>M</td>\n",
       "      <td>M</td>\n",
       "    </tr>\n",
       "    <tr>\n",
       "      <td>4</td>\n",
       "      <td>100008</td>\n",
       "      <td>01504530100000</td>\n",
       "      <td>1</td>\n",
       "      <td>01089</td>\n",
       "      <td>290</td>\n",
       "      <td>26620</td>\n",
       "      <td>Madison City</td>\n",
       "      <td>Alabama</td>\n",
       "      <td>AL</td>\n",
       "      <td>03</td>\n",
       "      <td>...</td>\n",
       "      <td>M</td>\n",
       "      <td>M</td>\n",
       "      <td>R</td>\n",
       "      <td>R</td>\n",
       "      <td>R</td>\n",
       "      <td>M</td>\n",
       "      <td>M</td>\n",
       "      <td>M</td>\n",
       "      <td>M</td>\n",
       "      <td>M</td>\n",
       "    </tr>\n",
       "    <tr>\n",
       "      <td>...</td>\n",
       "      <td>...</td>\n",
       "      <td>...</td>\n",
       "      <td>...</td>\n",
       "      <td>...</td>\n",
       "      <td>...</td>\n",
       "      <td>...</td>\n",
       "      <td>...</td>\n",
       "      <td>...</td>\n",
       "      <td>...</td>\n",
       "      <td>...</td>\n",
       "      <td>...</td>\n",
       "      <td>...</td>\n",
       "      <td>...</td>\n",
       "      <td>...</td>\n",
       "      <td>...</td>\n",
       "      <td>...</td>\n",
       "      <td>...</td>\n",
       "      <td>...</td>\n",
       "      <td>...</td>\n",
       "      <td>...</td>\n",
       "      <td>...</td>\n",
       "    </tr>\n",
       "    <tr>\n",
       "      <td>18703</td>\n",
       "      <td>5680250</td>\n",
       "      <td>51502040100000</td>\n",
       "      <td>56</td>\n",
       "      <td>56039</td>\n",
       "      <td>N</td>\n",
       "      <td>27220</td>\n",
       "      <td>Region V BOCES</td>\n",
       "      <td>Wyoming</td>\n",
       "      <td>WY</td>\n",
       "      <td>07</td>\n",
       "      <td>...</td>\n",
       "      <td>N</td>\n",
       "      <td>N</td>\n",
       "      <td>N</td>\n",
       "      <td>N</td>\n",
       "      <td>N</td>\n",
       "      <td>N</td>\n",
       "      <td>N</td>\n",
       "      <td>N</td>\n",
       "      <td>N</td>\n",
       "      <td>N</td>\n",
       "    </tr>\n",
       "    <tr>\n",
       "      <td>18704</td>\n",
       "      <td>5680251</td>\n",
       "      <td>N</td>\n",
       "      <td>56</td>\n",
       "      <td>56021</td>\n",
       "      <td>N</td>\n",
       "      <td>16940</td>\n",
       "      <td>Wyoming Department of Family Services</td>\n",
       "      <td>Wyoming</td>\n",
       "      <td>WY</td>\n",
       "      <td>N</td>\n",
       "      <td>...</td>\n",
       "      <td>N</td>\n",
       "      <td>N</td>\n",
       "      <td>N</td>\n",
       "      <td>N</td>\n",
       "      <td>N</td>\n",
       "      <td>N</td>\n",
       "      <td>N</td>\n",
       "      <td>N</td>\n",
       "      <td>N</td>\n",
       "      <td>N</td>\n",
       "    </tr>\n",
       "    <tr>\n",
       "      <td>18705</td>\n",
       "      <td>5680252</td>\n",
       "      <td>N</td>\n",
       "      <td>56</td>\n",
       "      <td>56005</td>\n",
       "      <td>N</td>\n",
       "      <td>23940</td>\n",
       "      <td>Youth Emergency Services Inc. - Administration...</td>\n",
       "      <td>Wyoming</td>\n",
       "      <td>WY</td>\n",
       "      <td>N</td>\n",
       "      <td>...</td>\n",
       "      <td>N</td>\n",
       "      <td>N</td>\n",
       "      <td>N</td>\n",
       "      <td>N</td>\n",
       "      <td>N</td>\n",
       "      <td>N</td>\n",
       "      <td>N</td>\n",
       "      <td>N</td>\n",
       "      <td>N</td>\n",
       "      <td>N</td>\n",
       "    </tr>\n",
       "    <tr>\n",
       "      <td>18706</td>\n",
       "      <td>5680253</td>\n",
       "      <td>N</td>\n",
       "      <td>56</td>\n",
       "      <td>56025</td>\n",
       "      <td>N</td>\n",
       "      <td>16220</td>\n",
       "      <td>Wyoming Behavioral Institute - Administration ...</td>\n",
       "      <td>Wyoming</td>\n",
       "      <td>WY</td>\n",
       "      <td>N</td>\n",
       "      <td>...</td>\n",
       "      <td>N</td>\n",
       "      <td>N</td>\n",
       "      <td>N</td>\n",
       "      <td>N</td>\n",
       "      <td>N</td>\n",
       "      <td>N</td>\n",
       "      <td>N</td>\n",
       "      <td>N</td>\n",
       "      <td>N</td>\n",
       "      <td>N</td>\n",
       "    </tr>\n",
       "    <tr>\n",
       "      <td>18707</td>\n",
       "      <td>5680254</td>\n",
       "      <td>N</td>\n",
       "      <td>56</td>\n",
       "      <td>56013</td>\n",
       "      <td>N</td>\n",
       "      <td>40180</td>\n",
       "      <td>Saint Stephen's Indian School Admin Office</td>\n",
       "      <td>Wyoming</td>\n",
       "      <td>WY</td>\n",
       "      <td>03</td>\n",
       "      <td>...</td>\n",
       "      <td>N</td>\n",
       "      <td>N</td>\n",
       "      <td>N</td>\n",
       "      <td>N</td>\n",
       "      <td>N</td>\n",
       "      <td>N</td>\n",
       "      <td>N</td>\n",
       "      <td>N</td>\n",
       "      <td>N</td>\n",
       "      <td>N</td>\n",
       "    </tr>\n",
       "  </tbody>\n",
       "</table>\n",
       "<p>18708 rows × 260 columns</p>\n",
       "</div>"
      ],
      "text/plain": [
       "         LEAID        CENSUSID  FIPST  CONUM  CSA   CBSA  \\\n",
       "0       100002               N      1  01073  142  13820   \n",
       "1       100005  01504840100000      1  01095  290  10700   \n",
       "2       100006  01504800100000      1  01095  290  10700   \n",
       "3       100007  01503740100000      1  01073  142  13820   \n",
       "4       100008  01504530100000      1  01089  290  26620   \n",
       "...        ...             ...    ...    ...  ...    ...   \n",
       "18703  5680250  51502040100000     56  56039    N  27220   \n",
       "18704  5680251               N     56  56021    N  16940   \n",
       "18705  5680252               N     56  56005    N  23940   \n",
       "18706  5680253               N     56  56025    N  16220   \n",
       "18707  5680254               N     56  56013    N  40180   \n",
       "\n",
       "                                                    NAME   STNAME STABBR  \\\n",
       "0                                 Alabama Youth Services  Alabama     AL   \n",
       "1                                       Albertville City  Alabama     AL   \n",
       "2                                        Marshall County  Alabama     AL   \n",
       "3                                            Hoover City  Alabama     AL   \n",
       "4                                           Madison City  Alabama     AL   \n",
       "...                                                  ...      ...    ...   \n",
       "18703                                     Region V BOCES  Wyoming     WY   \n",
       "18704              Wyoming Department of Family Services  Wyoming     WY   \n",
       "18705  Youth Emergency Services Inc. - Administration...  Wyoming     WY   \n",
       "18706  Wyoming Behavioral Institute - Administration ...  Wyoming     WY   \n",
       "18707         Saint Stephen's Indian School Admin Office  Wyoming     WY   \n",
       "\n",
       "      SCHLEV  ... FL_61V  FL_66V  FL_W01  FL_W31 FL_W61 FL_V95  FL_V02  \\\n",
       "0          N  ...      M       M       M       M      M      M       M   \n",
       "1         03  ...      M       M       R       R      R      M       M   \n",
       "2         03  ...      M       M       R       R      R      M       M   \n",
       "3         03  ...      M       M       R       R      R      M       M   \n",
       "4         03  ...      M       M       R       R      R      M       M   \n",
       "...      ...  ...    ...     ...     ...     ...    ...    ...     ...   \n",
       "18703     07  ...      N       N       N       N      N      N       N   \n",
       "18704      N  ...      N       N       N       N      N      N       N   \n",
       "18705      N  ...      N       N       N       N      N      N       N   \n",
       "18706      N  ...      N       N       N       N      N      N       N   \n",
       "18707     03  ...      N       N       N       N      N      N       N   \n",
       "\n",
       "       FL_K14  FL_CE1  FL_CE2  \n",
       "0           M       M       M  \n",
       "1           M       M       M  \n",
       "2           M       M       M  \n",
       "3           M       M       M  \n",
       "4           M       M       M  \n",
       "...       ...     ...     ...  \n",
       "18703       N       N       N  \n",
       "18704       N       N       N  \n",
       "18705       N       N       N  \n",
       "18706       N       N       N  \n",
       "18707       N       N       N  \n",
       "\n",
       "[18708 rows x 260 columns]"
      ]
     },
     "execution_count": 2,
     "metadata": {},
     "output_type": "execute_result"
    }
   ],
   "source": [
    "fiscal_df"
   ]
  },
  {
   "cell_type": "markdown",
   "metadata": {},
   "source": [
    "### Problem 1 <br>\n",
    "Import and explore the district-level fiscal data from 2015-16. <br>\n",
    "Rank and visualize the states that take in the most federal funding (revenue).<br>\n",
    "Which states spend the most federal funding per student? <br>"
   ]
  },
  {
   "cell_type": "code",
   "execution_count": 3,
   "metadata": {},
   "outputs": [
    {
     "data": {
      "text/plain": [
       "['TOTALREV', 'TOTALEXP']"
      ]
     },
     "execution_count": 3,
     "metadata": {},
     "output_type": "execute_result"
    }
   ],
   "source": [
    "[x for x in fiscal_df.columns if 'TOTAL' in x]\n",
    "\n"
   ]
  },
  {
   "cell_type": "code",
   "execution_count": 4,
   "metadata": {},
   "outputs": [
    {
     "data": {
      "text/plain": [
       "<matplotlib.axes._subplots.AxesSubplot at 0x1150ced10>"
      ]
     },
     "execution_count": 4,
     "metadata": {},
     "output_type": "execute_result"
    },
    {
     "data": {
      "image/png": "[encoded data removed]",
      "text/plain": [
       "<Figure size 432x288 with 1 Axes>"
      ]
     },
     "metadata": {
      "needs_background": "light"
     },
     "output_type": "display_data"
    }
   ],
   "source": [
    "import matplotlib\n",
    "%matplotlib inline\n",
    "fiscal_df.groupby(['STABBR']).sum().sort_values(by = ['TOTALEXP'], ascending = False).reset_index().plot(kind = 'bar', \n",
    "                                                                                                       x = 'STABBR',\n",
    "                                                                                                       y = 'TOTALEXP')\n",
    "#fiscal_df.sort_values(by = ['TOTALEXP'], ascending = False).iloc[0:20]"
   ]
  },
  {
   "cell_type": "code",
   "execution_count": 5,
   "metadata": {},
   "outputs": [],
   "source": [
    "df_totalexp = fiscal_df.groupby(['STABBR']).sum().sort_values(by = ['TFEDREV'], ascending = False).reset_index()"
   ]
  },
  {
   "cell_type": "code",
   "execution_count": 6,
   "metadata": {},
   "outputs": [],
   "source": [
    "df = pd.read_csv('https://raw.githubusercontent.com/plotly/datasets/master/2011_us_ag_exports.csv')\n"
   ]
  },
  {
   "cell_type": "code",
   "execution_count": null,
   "metadata": {},
   "outputs": [],
   "source": [
    "import plotly.graph_objects as go\n",
    "\n",
    "# Load data frame and tidy it.\n",
    "import pandas as pd\n",
    "\n",
    "\n",
    "fig = go.Figure(data=go.Choropleth(\n",
    "    locations=df_totalexp['STABBR'], # Spatial coordinates\n",
    "    z = df_totalexp['TFEDREV'].astype(float), # Data to be color-coded\n",
    "    locationmode = 'USA-states', # set of locations match entries in `locations`\n",
    "   # colorscale = 'Reds',\n",
    "    colorbar_title = \"total expenditures ($)\",\n",
    "))\n",
    "\n",
    "fig.update_layout(\n",
    "    title_text = 'Total Expenditures on Education by state k-12',\n",
    "    geo_scope='usa', # limite map scope to USA\n",
    ")\n",
    "\n",
    "fig.write_image(\"figures/total_fedrev_by_state.png\")\n",
    "\n",
    "fig.show()"
   ]
  },
  {
   "cell_type": "markdown",
   "metadata": {},
   "source": [
    "### Problem 2 <br>\n",
    "Visualize the relationship between school districts’ total revenue and expenditures. <br>\n",
    "Which states have the most debt per student?<br>\n",
    "\n"
   ]
  },
  {
   "cell_type": "code",
   "execution_count": null,
   "metadata": {},
   "outputs": [],
   "source": [
    "fiscal_df.groupby(['STABBR']).sum().reset_index().plot(kind = 'scatter', x = 'TOTALREV', y = 'TOTALEXP')"
   ]
  },
  {
   "cell_type": "code",
   "execution_count": null,
   "metadata": {},
   "outputs": [],
   "source": [
    "import os\n",
    "\n",
    "os.getcwd()"
   ]
  },
  {
   "cell_type": "code",
   "execution_count": null,
   "metadata": {},
   "outputs": [],
   "source": []
  },
  {
   "cell_type": "code",
   "execution_count": null,
   "metadata": {},
   "outputs": [],
   "source": [
    "fiscal_df.groupby(['STABBR']).sum().reset_index().to_csv('/Users/zlatanferic/Dropbox/temp/fiscal_df.csv', index = False)"
   ]
  },
  {
   "cell_type": "code",
   "execution_count": null,
   "metadata": {},
   "outputs": [],
   "source": [
    "#Debt is probably expenditures - revenue (in this case maybe even more as goverement gives tax and funding cuts to schools)"
   ]
  },
  {
   "cell_type": "code",
   "execution_count": null,
   "metadata": {},
   "outputs": [],
   "source": [
    "dff = fiscal_df.groupby(['STABBR']).sum().reset_index()\n",
    "dff['debt_ratio'] = dff['TOTALEXP'] / dff['TOTALREV']\n",
    "dff.sort_values(by = 'debt_ratio', ascending = False).head()"
   ]
  },
  {
   "cell_type": "code",
   "execution_count": null,
   "metadata": {},
   "outputs": [],
   "source": [
    "#North Dakota has the highest debt-to-income Ratio"
   ]
  },
  {
   "cell_type": "markdown",
   "metadata": {},
   "source": [
    "### Problem 3 <br>\n",
    "\n",
    "The district-level performance metrics from EDFacts may be useful in your decision. <br>\n",
    "However, to protect student privacy, the data in these datasets has been heavily “blurred” to prevent students <br>\n",
    "from being identified. Therefore, most of the numeric metrics are presented as ranges in string format. In <br>\n",
    "addition, censored and missing data must be imputed. <br>\n",
    "Write and explain a function for processing a single column of “blurred” metrics into usable numeric values.<br>\n",
    "Use it to process and then visualize the distribution of a performance metric of your choice. <br>"
   ]
  },
  {
   "cell_type": "code",
   "execution_count": null,
   "metadata": {},
   "outputs": [],
   "source": [
    "perform_math_df.shape"
   ]
  },
  {
   "cell_type": "code",
   "execution_count": null,
   "metadata": {},
   "outputs": [],
   "source": [
    "perform_math_df.head()"
   ]
  },
  {
   "cell_type": "code",
   "execution_count": null,
   "metadata": {},
   "outputs": [],
   "source": [
    "perform_math_df['ALL_MTH00PCTPROF_1516'].unique()"
   ]
  },
  {
   "cell_type": "code",
   "execution_count": null,
   "metadata": {},
   "outputs": [],
   "source": [
    "perform_read_df['ALL_RLA00PCTPROF_1516'].unique()"
   ]
  },
  {
   "cell_type": "markdown",
   "metadata": {},
   "source": [
    "For rates that are privacy protected, some of the privacy protections use the following symbols and translations: <br>\n",
    "•\tGreater than or equal to  =  ≥  =  GE <br>\n",
    "•\tLess than or equal to =  ≤  =  LE <br>\n",
    "•\tGreater than  =  >  =  GT <br>\n",
    "•\tLess than  =  <  =  LT <br>\n",
    "•\tData suppressed to protect student privacy = PS <br>\n",
    "For example, a graduation rate in the data file displaying “GE50” means the rate for that particular subgroup is “greater than or equal to 50%.” See table below for additional explanation of the way privacy protection for various student counts are applied. <br>\n"
   ]
  },
  {
   "cell_type": "code",
   "execution_count": null,
   "metadata": {},
   "outputs": [],
   "source": [
    "## couple considerations for the preprocessing function\n",
    "\n",
    "## depending on how we implement we can only use raw data or impute\n",
    "\n",
    "## we can use upper or lower intervals on range, or use mean value\n",
    "\n",
    "## we can include / exclude GE, LE, etc.. \n",
    "\n",
    "## dealing with PS - impute with state level mean/mode, or exclude completely\n",
    "\n",
    "## THe preprocessing can have a large effect on what we get back"
   ]
  },
  {
   "cell_type": "code",
   "execution_count": null,
   "metadata": {},
   "outputs": [],
   "source": [
    "import numpy as np\n",
    "#preprocess the data\n",
    "#takes in an item and range (0 = lower, 1 = upper for values suchas (44-55).. i.e. 0 would chose 44)\n",
    "def process_col(item,opt1, opt2):\n",
    "    \n",
    "    \n",
    "    #range givem.. can chose upper or lower based on input\n",
    "    if len(item.split('-')) > 1:\n",
    "        \n",
    "        if opt1 == 1:\n",
    "            lower = int(item.split('-')[0])\n",
    "            upper = int(item.split('-')[1])\n",
    "            #this is themidpoint of the interval\n",
    "            act = (upper - lower)/ 2 + lower\n",
    "        \n",
    "        elif opt1 == 2:\n",
    "            act = int(item.split('-')[0])\n",
    "        elif opt1 == 3:\n",
    "            act = int(item.split('-')[1])\n",
    "    \n",
    "    #case less than/equal to\n",
    "    elif 'LE' in item:\n",
    "        if opt2 == 1:\n",
    "            act = int(item.replace('LE',''))\n",
    "        if opt2 == 2:\n",
    "            act = -85\n",
    "    #case greater than\n",
    "    elif 'GE' in item:\n",
    "        if opt2 == 1:\n",
    "            act = int(item.replace('GE',''))\n",
    "        if opt2 == 2:\n",
    "            act = -85\n",
    "    #case less than\n",
    "    elif 'LT' in item:\n",
    "        if opt2 == 1:\n",
    "            act = int(item.replace('LT',''))\n",
    "        if opt2 == 2:\n",
    "            act = -85\n",
    "    elif 'PS' in item:\n",
    "        #code for act\n",
    "        \n",
    "        ## this is a problem\n",
    "        ## if a lot is missing will be skewed tlower significantly based on missingness \n",
    "        act = np.nan\n",
    "    else:\n",
    "        try:\n",
    "            act = int(item)\n",
    "        except: \n",
    "            #error code.. something went wrong\n",
    "            act = -6\n",
    "            \n",
    "    return act     "
   ]
  },
  {
   "cell_type": "code",
   "execution_count": null,
   "metadata": {},
   "outputs": [],
   "source": [
    "#math levels\n",
    "\n",
    "perform_math_df['ALL_MTH00PCTPROF_1516_pcssd_2'] = \\\n",
    "        perform_math_df['ALL_MTH00PCTPROF_1516'].apply(lambda x : process_col(x,1,1))\n",
    "\n",
    "#reding levels\n",
    "\n",
    "perform_read_df['ALL_RLA00PCTPROF_1516_pcssd_2'] = \\\n",
    "        perform_read_df['ALL_RLA00PCTPROF_1516'].apply(lambda x : process_col(x,1,1))"
   ]
  },
  {
   "cell_type": "code",
   "execution_count": null,
   "metadata": {},
   "outputs": [],
   "source": [
    "#datagframe with the ge/le/etc (keeping only the %\n",
    "# and also midpoint of interval\n",
    "perform_math_mid = perform_math_df[~perform_math_df['ALL_MTH00PCTPROF_1516_pcssd_2'].isin([-77])]\n",
    "\n",
    "#datagframe with the ge/le/etc (keeping only the %\n",
    "perform_read_mid = perform_read_df[~perform_read_df['ALL_RLA00PCTPROF_1516_pcssd_2'].isin([-77])]"
   ]
  },
  {
   "cell_type": "code",
   "execution_count": null,
   "metadata": {},
   "outputs": [],
   "source": [
    "#clean\n",
    "perform_math_mid['ALL_MTH00PCTPROF_1516_pcssd_2'].unique()\n"
   ]
  },
  {
   "cell_type": "code",
   "execution_count": null,
   "metadata": {},
   "outputs": [],
   "source": [
    "#impute the missing data with state averages\n",
    "\n",
    "perform_math_mid['ALL_MTH00PCTPROF_1516_pcssd_2'] = perform_math_mid.groupby('STNAM')['ALL_MTH00PCTPROF_1516_pcssd_2']\\\n",
    "                                .transform(lambda x: x.fillna(x.mean()))\n",
    "\n",
    "perform_read_mid['ALL_RLA00PCTPROF_1516_pcssd_2'] = perform_read_mid.groupby('STNAM')['ALL_RLA00PCTPROF_1516_pcssd_2']\\\n",
    "                                .transform(lambda x: x.fillna(x.mean()))"
   ]
  },
  {
   "cell_type": "code",
   "execution_count": null,
   "metadata": {},
   "outputs": [],
   "source": [
    "perform_math_mid.columns"
   ]
  },
  {
   "cell_type": "code",
   "execution_count": null,
   "metadata": {},
   "outputs": [],
   "source": [
    "#dataframe with complete averages\n",
    "\n",
    "math_df2 = perform_math_mid[['STNAM','ALL_MTH00PCTPROF_1516_pcssd_2']].groupby(['STNAM']).mean().reset_index()\n",
    "\n",
    "read_df2 = perform_read_mid[['STNAM','ALL_RLA00PCTPROF_1516_pcssd_2']].groupby(['STNAM']).mean().reset_index()\n",
    "math_df2.head()"
   ]
  },
  {
   "cell_type": "code",
   "execution_count": null,
   "metadata": {},
   "outputs": [],
   "source": [
    "math_df2.columns"
   ]
  },
  {
   "cell_type": "code",
   "execution_count": null,
   "metadata": {},
   "outputs": [],
   "source": [
    "df = pd.read_csv('https://raw.githubusercontent.com/plotly/datasets/master/2011_us_ag_exports.csv')\n",
    "df['state_upper'] = [x.upper() for x in df['state']]\n",
    "math_df3 = math_df2.merge(df[['code','state_upper']], left_on = 'STNAM', right_on = 'state_upper', how = 'outer', indicator = True)\n",
    "read_df3 = read_df2.merge(df[['code','state_upper']], left_on = 'STNAM', right_on = 'state_upper', how = 'outer', indicator = True)"
   ]
  },
  {
   "cell_type": "code",
   "execution_count": null,
   "metadata": {},
   "outputs": [],
   "source": [
    "math_df3['STNAM'].unique()"
   ]
  },
  {
   "cell_type": "code",
   "execution_count": null,
   "metadata": {},
   "outputs": [],
   "source": [
    "df['state_upper'].unique()"
   ]
  },
  {
   "cell_type": "code",
   "execution_count": null,
   "metadata": {},
   "outputs": [],
   "source": [
    "import plotly.graph_objects as go\n",
    "\n",
    "# Load data frame and tidy it.\n",
    "import pandas as pd\n",
    "\n",
    "\n",
    "fig = go.Figure(data=go.Choropleth(\n",
    "    locations=read_df3['code'], # Spatial coordinates\n",
    "    z = read_df3['ALL_RLA00PCTPROF_1516_pcssd_2'].astype(float), # Data to be color-coded\n",
    "    locationmode = 'USA-states', # set of locations match entries in `locations`\n",
    "   # colorscale = 'Reds',\n",
    "    colorbar_title = \"% reading competency\",\n",
    "))\n",
    "\n",
    "fig.update_layout(\n",
    "    title_text = 'Average % reading competency scores by state 2015-16',\n",
    "    geo_scope='usa', # limite map scope to USA\n",
    ")\n",
    "\n",
    "fig.write_image(\"figures/math_competancy_by_state.png\")\n",
    "fig.show()"
   ]
  },
  {
   "cell_type": "code",
   "execution_count": null,
   "metadata": {},
   "outputs": [],
   "source": [
    "fig = go.Figure(data=go.Choropleth(\n",
    "    locations=math_df3['code'], # Spatial coordinates\n",
    "    z = math_df3['ALL_MTH00PCTPROF_1516_pcssd_2'].astype(float), # Data to be color-coded\n",
    "    locationmode = 'USA-states', # set of locations match entries in `locations`\n",
    "   # colorscale = 'Reds',\n",
    "    colorbar_title = \"% math competency\",\n",
    "))\n",
    "\n",
    "fig.update_layout(\n",
    "    title_text = 'Average % math competency scores by state 2015-16',\n",
    "    geo_scope='usa', # limite map scope to USA\n",
    ")\n",
    "fig.write_image(\"figures/reading_competancy_by_state.png\")\n",
    "fig.show(width=600, height=350,]]"
   ]
  },
  {
   "cell_type": "code",
   "execution_count": null,
   "metadata": {},
   "outputs": [],
   "source": [
    "perform_read_df"
   ]
  },
  {
   "cell_type": "code",
   "execution_count": null,
   "metadata": {},
   "outputs": [],
   "source": []
  },
  {
   "cell_type": "markdown",
   "metadata": {},
   "source": [
    "### Problem 4 <br>\n",
    "You are tasked with cutting 15% of the U.S. federal budget currently being spent on funding school districts. <br>\n",
    "How much money is this? <br>\n",
    "Choose which school districts will have their funding cut and how this will be done. <br>\n",
    "(You should produce a table of LEA IDs and the dollar amount by which their federal funding will be cut – <br>\n",
    "you do not need print the entire table.) <br>"
   ]
  },
  {
   "cell_type": "code",
   "execution_count": null,
   "metadata": {},
   "outputs": [],
   "source": [
    "fiscal_df = fiscal_df.query('TFEDREV > 0')\n"
   ]
  },
  {
   "cell_type": "code",
   "execution_count": null,
   "metadata": {},
   "outputs": [],
   "source": [
    "fiscal_df['percnt_TFEDREV'] = fiscal_df['TFEDREV'] / fiscal_df['TFEDREV'].sum()"
   ]
  },
  {
   "cell_type": "code",
   "execution_count": null,
   "metadata": {},
   "outputs": [],
   "source": [
    "fiscal_df.loc[:,'cut_rev_by'] = fiscal_df['percnt_TFEDREV'] * .15 * fiscal_df['TFEDREV'].sum()"
   ]
  },
  {
   "cell_type": "code",
   "execution_count": null,
   "metadata": {},
   "outputs": [],
   "source": [
    "fiscal_df['cut_rev_by'].sum()"
   ]
  },
  {
   "cell_type": "code",
   "execution_count": null,
   "metadata": {},
   "outputs": [],
   "source": [
    "# GET A REFERENCE FOR THE AMOUNTS BEING SPENT / AND CUTTING because this number could vary based on if you \n",
    "# pick the wrong forumla\n"
   ]
  },
  {
   "cell_type": "code",
   "execution_count": null,
   "metadata": {},
   "outputs": [],
   "source": [
    "# Problem 5\n",
    "\n",
    "Provide a statement for your supervisor justifying your decisions on which school districts will lose funding."
   ]
  }
 ],
 "metadata": {
  "kernelspec": {
   "display_name": "Python 3",
   "language": "python",
   "name": "python3"
  },
  "language_info": {
   "codemirror_mode": {
    "name": "ipython",
    "version": 3
   },
   "file_extension": ".py",
   "mimetype": "text/x-python",
   "name": "python",
   "nbconvert_exporter": "python",
   "pygments_lexer": "ipython3",
   "version": "3.7.4"
  }
 },
 "nbformat": 4,
 "nbformat_minor": 2
}
